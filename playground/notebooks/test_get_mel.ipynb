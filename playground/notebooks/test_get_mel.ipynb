{
 "cells": [
  {
   "cell_type": "code",
   "execution_count": 1,
   "metadata": {},
   "outputs": [
    {
     "name": "stderr",
     "output_type": "stream",
     "text": [
      "[   INFO   ] MusicExtractorSVM: no classifier models were configured by default\n"
     ]
    }
   ],
   "source": [
    "import os\n",
    "\n",
    "import pickle\n",
    "import numpy as np\n",
    "import ffmpeg\n",
    "\n",
    "import torch\n",
    "import torch.nn as nn\n",
    "\n",
    "from essentia.standard import *\n",
    "import essentia"
   ]
  },
  {
   "cell_type": "code",
   "execution_count": 2,
   "metadata": {},
   "outputs": [],
   "source": [
    "def get_dictionary(fn):\n",
    "    with open(fn, 'rb') as pf:\n",
    "        dictionary = pickle.load(pf)\n",
    "    return dictionary"
   ]
  },
  {
   "cell_type": "code",
   "execution_count": 3,
   "metadata": {},
   "outputs": [],
   "source": [
    "fn = '/home/felipe/Documents/Github/Pt-Brdo/playground/notebooks/moodtheme_test_dict.pickle'\n",
    "mel_dict = get_dictionary(fn)"
   ]
  },
  {
   "cell_type": "code",
   "execution_count": 4,
   "metadata": {},
   "outputs": [
    {
     "name": "stdout",
     "output_type": "stream",
     "text": [
      "/home/felipe/Desktop/mtg-mood-theme-mel/00/13400.npy\n",
      "00/13400.mp3\n",
      "torch.Size([96, 9602])\n"
     ]
    },
    {
     "data": {
      "text/plain": [
       "tensor([[-69.5358, -48.5393, -56.4544,  ..., -90.0000, -90.0000, -90.0000],\n",
       "        [-64.7463, -49.1767, -52.0730,  ..., -90.0000, -90.0000, -90.0000],\n",
       "        [-61.8604, -57.5374, -57.4104,  ..., -90.0000, -90.0000, -90.0000],\n",
       "        ...,\n",
       "        [-90.0000, -90.0000, -88.5863,  ..., -90.0000, -90.0000, -90.0000],\n",
       "        [-90.0000, -90.0000, -90.0000,  ..., -90.0000, -90.0000, -90.0000],\n",
       "        [-90.0000, -90.0000, -90.0000,  ..., -90.0000, -90.0000, -90.0000]],\n",
       "       device='cuda:0')"
      ]
     },
     "execution_count": 4,
     "metadata": {},
     "output_type": "execute_result"
    }
   ],
   "source": [
    "index = 0\n",
    "\n",
    "fn = os.path.join('/home/felipe/Desktop/mtg-mood-theme-mel', mel_dict[index]['path'][:-3]+'npy')\n",
    "print(fn)\n",
    "\n",
    "\n",
    "tags = mel_dict[index]['tags']\n",
    "tags = tags.astype('float32')\n",
    "\n",
    "path = mel_dict[index]['path']\n",
    "\n",
    "audio = np.array(np.load(fn))\n",
    "audio = audio.astype('float32')\n",
    "audio = torch.tensor(audio).cuda()\n",
    "\n",
    "print(path)\n",
    "print(audio.shape)\n",
    "audio"
   ]
  },
  {
   "cell_type": "code",
   "execution_count": 5,
   "metadata": {},
   "outputs": [],
   "source": [
    "def load_audio(filename, sampleRate=12000, segment_duration=None):\n",
    "    audio = MonoLoader(filename=filename, sampleRate=sampleRate)()\n",
    "\n",
    "    if segment_duration:\n",
    "        segment_duration = round(segment_duration*sampleRate)\n",
    "        segment_start = (len(audio) - segment_duration) // 2\n",
    "        segment_end = segment_start + segment_duration\n",
    "    else:\n",
    "        segment_start = 0\n",
    "        segment_end = len(audio)\n",
    "\n",
    "    if segment_start < 0 or segment_end > len(audio):\n",
    "        raise ValueError('Segment duration is larger than the input audio duration')\n",
    "\n",
    "    return audio[segment_start:segment_end]\n",
    "\n",
    "\n",
    "def melspectrogram(audio, \n",
    "                   sampleRate=12000, frameSize=512, hopSize=256,\n",
    "                   window='hann', zeroPadding=0, center=True,\n",
    "                   numberBands=96, lowFrequencyBound=0, highFrequencyBound=None,\n",
    "                   weighting='linear', warpingFormula='slaneyMel',\n",
    "                   normalize='unit_tri'):\n",
    "\n",
    "    if highFrequencyBound is None:\n",
    "        highFrequencyBound = sampleRate/2\n",
    "    \n",
    "    windowing = Windowing(type=window, normalized=False, zeroPadding=zeroPadding)\n",
    "    spectrum = Spectrum()\n",
    "    melbands = MelBands(numberBands=numberBands,\n",
    "                        sampleRate=sampleRate,\n",
    "                        lowFrequencyBound=lowFrequencyBound, \n",
    "                        highFrequencyBound=highFrequencyBound,\n",
    "                        inputSize=(frameSize+zeroPadding)//2+1,\n",
    "                        weighting=weighting,\n",
    "                        normalize=normalize,\n",
    "                        warpingFormula=warpingFormula,\n",
    "                        type='power')\n",
    "    amp2db = UnaryOperator(type='lin2db', scale=2)\n",
    "\n",
    "    pool = essentia.Pool()\n",
    "    for frame in FrameGenerator(audio, \n",
    "                                frameSize=frameSize, hopSize=hopSize,\n",
    "                                startFromZero=not center):\n",
    "        pool.add('mel', amp2db(melbands(spectrum(windowing(frame)))))\n",
    "\n",
    "    return pool['mel'].T\n",
    "\n",
    "def get_mel(in_audio_file, is_full_audio):\n",
    "    \"\"\"\n",
    "        in_audio_file: input audio file\n",
    "        out_npy_file: output NPY file to store mel-spectrogram\n",
    "        is_full_audio: analyze full audio instead of a centered 29.1s segment\n",
    "    \"\"\"\n",
    "    if is_full_audio:\n",
    "        # Analyze full audio duration.\n",
    "        segment_duration=None\n",
    "    else:\n",
    "        # Duration for the Choi's VGG model.\n",
    "        segment_duration=29.1\n",
    "\n",
    "    audio = load_audio(in_audio_file, segment_duration=segment_duration)\n",
    "    mel = melspectrogram(audio)\n",
    "    return mel"
   ]
  },
  {
   "cell_type": "code",
   "execution_count": 6,
   "metadata": {},
   "outputs": [],
   "source": [
    "class CNN(nn.Module):\n",
    "    def __init__(self, num_class=15):\n",
    "        super(CNN, self).__init__()\n",
    "\n",
    "        # init bn\n",
    "        self.bn_init = nn.BatchNorm2d(1)\n",
    "\n",
    "        # layer 1\n",
    "        self.conv_1 = nn.Conv2d(1, 64, 3, padding=1)\n",
    "        self.bn_1 = nn.BatchNorm2d(64)\n",
    "        self.mp_1 = nn.MaxPool2d((2, 4))\n",
    "\n",
    "        # layer 2\n",
    "        self.conv_2 = nn.Conv2d(64, 128, 3, padding=1)\n",
    "        self.bn_2 = nn.BatchNorm2d(128)\n",
    "        self.mp_2 = nn.MaxPool2d((2, 4))\n",
    "\n",
    "        # layer 3\n",
    "        self.conv_3 = nn.Conv2d(128, 128, 3, padding=1)\n",
    "        self.bn_3 = nn.BatchNorm2d(128)\n",
    "        self.mp_3 = nn.MaxPool2d((2, 4))\n",
    "\n",
    "        # layer 4\n",
    "        self.conv_4 = nn.Conv2d(128, 128, 3, padding=1)\n",
    "        self.bn_4 = nn.BatchNorm2d(128)\n",
    "        self.mp_4 = nn.MaxPool2d((3, 5))\n",
    "\n",
    "        # layer 5\n",
    "        self.conv_5 = nn.Conv2d(128, 64, 3, padding=1)\n",
    "        self.bn_5 = nn.BatchNorm2d(64)\n",
    "        self.mp_5 = nn.MaxPool2d((4, 4))\n",
    "\n",
    "        # classifier\n",
    "        self.dense = nn.Linear(64, num_class)\n",
    "        self.dropout = nn.Dropout(0.5)\n",
    "\n",
    "    def forward(self, x):\n",
    "        x = x.unsqueeze(1)\n",
    "\n",
    "        # init bn\n",
    "        x = self.bn_init(x)\n",
    "\n",
    "        # layer 1\n",
    "        x = self.mp_1(nn.ELU()(self.bn_1(self.conv_1(x))))\n",
    "\n",
    "        # layer 2\n",
    "        x = self.mp_2(nn.ELU()(self.bn_2(self.conv_2(x))))\n",
    "\n",
    "        # layer 3\n",
    "        x = self.mp_3(nn.ELU()(self.bn_3(self.conv_3(x))))\n",
    "\n",
    "        # layer 4\n",
    "        x = self.mp_4(nn.ELU()(self.bn_4(self.conv_4(x))))\n",
    "\n",
    "        # layer 5\n",
    "        x = self.mp_5(nn.ELU()(self.bn_5(self.conv_5(x))))\n",
    "\n",
    "        # classifier\n",
    "        x = x.view(x.size(0), -1)\n",
    "        x = self.dropout(x)\n",
    "        logit = nn.Sigmoid()(self.dense(x))\n",
    "\n",
    "        return logit"
   ]
  },
  {
   "cell_type": "code",
   "execution_count": 7,
   "metadata": {},
   "outputs": [
    {
     "data": {
      "text/plain": [
       "'44100'"
      ]
     },
     "execution_count": 7,
     "metadata": {},
     "output_type": "execute_result"
    }
   ],
   "source": [
    "ffmpeg.probe('/home/felipe/Desktop/13400.mp3')['streams'][0]['sample_rate']"
   ]
  },
  {
   "cell_type": "code",
   "execution_count": 8,
   "metadata": {},
   "outputs": [
    {
     "name": "stdout",
     "output_type": "stream",
     "text": [
      "torch.Size([96, 1366])\n"
     ]
    }
   ],
   "source": [
    "my_mel = get_mel('/home/felipe/Desktop/13400.mp3', False)\n",
    "my_mel = torch.tensor(my_mel).cuda()\n",
    "print(my_mel.shape)"
   ]
  },
  {
   "cell_type": "code",
   "execution_count": 9,
   "metadata": {},
   "outputs": [],
   "source": [
    "model = CNN(num_class=56)\n",
    "\n",
    "S = torch.load('/home/felipe/Documents/Github/Pt-Brdo/src/pt_brdo/mtg_jamendo_baseline/models/best_model.pth')\n",
    "model.load_state_dict(S)\n",
    "\n",
    "# inference\n",
    "model.eval()\n",
    "model = model.cuda()"
   ]
  },
  {
   "cell_type": "code",
   "execution_count": 10,
   "metadata": {},
   "outputs": [
    {
     "name": "stdout",
     "output_type": "stream",
     "text": [
      "torch.Size([96, 1366]) torch.Size([96, 9602])\n"
     ]
    }
   ],
   "source": [
    "print(my_mel.shape, audio.shape)"
   ]
  },
  {
   "cell_type": "code",
   "execution_count": 11,
   "metadata": {},
   "outputs": [
    {
     "data": {
      "text/plain": [
       "tensor([ -68.7867,  -66.1242,  -64.2244,  -60.4956,  -64.7527,  -45.0095,\n",
       "         -33.6146,  -30.6942,  -34.6825,  -45.1362,  -58.1798,  -61.0160,\n",
       "         -53.6519,  -52.8619,  -60.4019,  -63.8609,  -49.7360,  -45.2003,\n",
       "         -48.1572,  -53.9476,  -59.2078,  -65.1857,  -71.0518,  -67.2471,\n",
       "         -59.2665,  -60.8922,  -67.2135,  -67.3332,  -76.5795,  -87.5193,\n",
       "         -77.2087,  -74.1364,  -71.9692,  -61.4227,  -59.3152,  -65.9897,\n",
       "         -80.8679,  -95.9277,  -86.9317,  -86.6582,  -90.3115,  -87.4826,\n",
       "         -82.6069,  -86.3694,  -97.4053,  -82.9761,  -85.6829,  -90.4414,\n",
       "         -88.1095, -100.4650,  -98.0056,  -99.5761,  -92.6636,  -90.8258,\n",
       "         -95.0165,  -99.5775,  -99.0912,  -95.4591, -101.1901, -102.0378,\n",
       "         -91.7656,  -89.2219,  -90.7442,  -98.7360, -110.1632,  -99.4069,\n",
       "         -96.4395, -110.8693, -105.2903, -102.0307, -108.4406, -109.5085,\n",
       "         -96.4408, -101.0703, -106.6503, -105.7251, -115.9824, -101.9469,\n",
       "         -97.7877, -101.8304, -103.0302, -112.0833, -109.7323, -113.5758,\n",
       "        -100.6791, -108.1434, -106.2161, -115.6197, -111.8232, -107.7378,\n",
       "        -103.1406, -103.6600, -112.2472, -114.8488, -113.3029, -114.3072],\n",
       "       device='cuda:0')"
      ]
     },
     "execution_count": 11,
     "metadata": {},
     "output_type": "execute_result"
    }
   ],
   "source": [
    "my_mel[:, 0]"
   ]
  },
  {
   "cell_type": "code",
   "execution_count": 12,
   "metadata": {},
   "outputs": [
    {
     "data": {
      "text/plain": [
       "tensor([-69.5358, -64.7463, -61.8604, -59.8808, -58.1119, -58.2752, -58.9025,\n",
       "        -60.2660, -62.0527, -64.3706, -68.4771, -72.2208, -75.7047, -79.4953,\n",
       "        -85.4376, -85.6893, -81.9504, -80.0834, -79.7122, -82.1272, -89.4751,\n",
       "        -90.0000, -90.0000, -90.0000, -90.0000, -88.8482, -86.1220, -84.0110,\n",
       "        -81.6328, -81.6245, -82.9754, -83.6547, -85.0630, -88.5137, -90.0000,\n",
       "        -87.7471, -85.0853, -82.7995, -84.5712, -88.1776, -88.0879, -86.8838,\n",
       "        -89.5533, -90.0000, -84.0632, -81.3411, -83.6548, -87.9001, -90.0000,\n",
       "        -90.0000, -88.2064, -84.8365, -85.5288, -87.3742, -88.8410, -90.0000,\n",
       "        -90.0000, -85.1121, -83.0755, -86.6247, -90.0000, -89.6840, -87.7929,\n",
       "        -84.6036, -86.9026, -90.0000, -90.0000, -87.8175, -83.3707, -84.7766,\n",
       "        -90.0000, -90.0000, -90.0000, -90.0000, -90.0000, -88.1323, -90.0000,\n",
       "        -88.8589, -90.0000, -90.0000, -90.0000, -88.7473, -90.0000, -89.0149,\n",
       "        -90.0000, -90.0000, -90.0000, -90.0000, -90.0000, -90.0000, -88.6646,\n",
       "        -90.0000, -90.0000, -90.0000, -90.0000, -90.0000], device='cuda:0')"
      ]
     },
     "execution_count": 12,
     "metadata": {},
     "output_type": "execute_result"
    }
   ],
   "source": [
    "audio[:, 0]"
   ]
  },
  {
   "cell_type": "code",
   "execution_count": 13,
   "metadata": {},
   "outputs": [
    {
     "name": "stdout",
     "output_type": "stream",
     "text": [
      "torch.Size([1, 56])\n"
     ]
    },
    {
     "data": {
      "text/plain": [
       "tensor([[0.0048, 0.0232, 0.0116, 0.0129, 0.0027, 0.0041, 0.0053, 0.0162, 0.0073,\n",
       "         0.0163, 0.0115, 0.0197, 0.0021, 0.0122, 0.0055, 0.0043, 0.0399, 0.0115,\n",
       "         0.1539, 0.0109, 0.0106, 0.0691, 0.0314, 0.0194, 0.1319, 0.0082, 0.1034,\n",
       "         0.0013, 0.0033, 0.0023, 0.0136, 0.0295, 0.0034, 0.0080, 0.1580, 0.0050,\n",
       "         0.0112, 0.0023, 0.0160, 0.0090, 0.0024, 0.0174, 0.0212, 0.0095, 0.0074,\n",
       "         0.0071, 0.0156, 0.0020, 0.0046, 0.0143, 0.0073, 0.0054, 0.0013, 0.0084,\n",
       "         0.0272, 0.0206]], device='cuda:0', grad_fn=<SigmoidBackward0>)"
      ]
     },
     "execution_count": 13,
     "metadata": {},
     "output_type": "execute_result"
    }
   ],
   "source": [
    "logits = model(my_mel.unsqueeze(0))\n",
    "print(logits.shape)\n",
    "logits"
   ]
  },
  {
   "cell_type": "code",
   "execution_count": null,
   "metadata": {},
   "outputs": [],
   "source": []
  }
 ],
 "metadata": {
  "kernelspec": {
   "display_name": "env",
   "language": "python",
   "name": "python3"
  },
  "language_info": {
   "codemirror_mode": {
    "name": "ipython",
    "version": 3
   },
   "file_extension": ".py",
   "mimetype": "text/x-python",
   "name": "python",
   "nbconvert_exporter": "python",
   "pygments_lexer": "ipython3",
   "version": "3.10.12"
  }
 },
 "nbformat": 4,
 "nbformat_minor": 2
}
