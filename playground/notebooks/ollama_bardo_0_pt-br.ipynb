{
 "cells": [
  {
   "cell_type": "code",
   "execution_count": null,
   "metadata": {},
   "outputs": [
    {
     "name": "stderr",
     "output_type": "stream",
     "text": [
      "usage: ipykernel_launcher.py [-h] [--train-data TRAIN_DATA]\n",
      "                             [--val-data VAL_DATA] [--freeze-text]\n",
      "                             [--freeze-text-after FREEZE_TEXT_AFTER]\n",
      "                             [--train-ipc TRAIN_IPC] [--val-ipc VAL_IPC]\n",
      "                             [--train-num-samples TRAIN_NUM_SAMPLES]\n",
      "                             [--val-num-samples VAL_NUM_SAMPLES]\n",
      "                             [--dataset-type {webdataset,csv,auto,toy}]\n",
      "                             [--csv-separator CSV_SEPARATOR]\n",
      "                             [--csv-img-key CSV_IMG_KEY]\n",
      "                             [--csv-caption-key CSV_CAPTION_KEY]\n",
      "                             [--imagenet-val IMAGENET_VAL]\n",
      "                             [--imagenet-v2 IMAGENET_V2]\n",
      "                             [--datasetnames DATASETNAMES [DATASETNAMES ...]]\n",
      "                             [--full-train-dataset FULL_TRAIN_DATASET [FULL_TRAIN_DATASET ...]]\n",
      "                             [--exclude-eval-dataset EXCLUDE_EVAL_DATASET [EXCLUDE_EVAL_DATASET ...]]\n",
      "                             [--datasetinfos DATASETINFOS [DATASETINFOS ...]]\n",
      "                             [--dataset-proportion DATASET_PROPORTION]\n",
      "                             [--remotedata]\n",
      "                             [--class-label-path CLASS_LABEL_PATH]\n",
      "                             [--datasetpath DATASETPATH] [--logs LOGS]\n",
      "                             [--log-local] [--name NAME] [--workers WORKERS]\n",
      "                             [--batch-size BATCH_SIZE] [--epochs EPOCHS]\n",
      "                             [--lr LR] [--beta1 BETA1] [--beta2 BETA2]\n",
      "                             [--eps EPS] [--momentum MOMENTUM] [--wd WD]\n",
      "                             [--split-opt] [--lr-pretrained LR_PRETRAINED]\n",
      "                             [--beta1-pretrained BETA1_PRETRAINED]\n",
      "                             [--beta2-pretrained BETA2_PRETRAINED]\n",
      "                             [--eps-pretrained EPS_PRETRAINED]\n",
      "                             [--wd-pretrained WD_PRETRAINED]\n",
      "                             [--momentum-pretrained MOMENTUM_PRETRAINED]\n",
      "                             [--lr-new LR_NEW] [--beta1-new BETA1_NEW]\n",
      "                             [--beta2-new BETA2_NEW] [--eps-new EPS_NEW]\n",
      "                             [--wd-new WD_NEW] [--momentum-new MOMENTUM_NEW]\n",
      "                             [--warmup WARMUP] [--use-bn-sync]\n",
      "                             [--skip-scheduler]\n",
      "                             [--save-frequency SAVE_FREQUENCY]\n",
      "                             [--save-top-performance SAVE_TOP_PERFORMANCE]\n",
      "                             [--save-most-recent]\n",
      "                             [--zeroshot-frequency ZEROSHOT_FREQUENCY]\n",
      "                             [--val-frequency VAL_FREQUENCY] [--resume RESUME]\n",
      "                             [--precision {amp,fp16,fp32}] [--amodel AMODEL]\n",
      "                             [--tmodel TMODEL]\n",
      "                             [--pretrained-audio PRETRAINED_AUDIO]\n",
      "                             [--pretrained-text PRETRAINED_TEXT]\n",
      "                             [--pretrained PRETRAINED] [--pretrained-image]\n",
      "                             [--lock-image]\n",
      "                             [--lock-image-unlocked-groups LOCK_IMAGE_UNLOCKED_GROUPS]\n",
      "                             [--lock-image-freeze-bn-stats] [--local-loss]\n",
      "                             [--gather-with-grad] [--force-quick-gelu]\n",
      "                             [--torchscript] [--trace] [--dist-url DIST_URL]\n",
      "                             [--dist-backend DIST_BACKEND]\n",
      "                             [--report-to REPORT_TO]\n",
      "                             [--wandb-notes WANDB_NOTES] [--C C] [--debug]\n",
      "                             [--copy-codebase] [--horovod]\n",
      "                             [--ddp-static-graph] [--no-set-device-rank]\n",
      "                             [--seed SEED]\n",
      "                             [--top-k-checkpoint-select-dataset TOP_K_CHECKPOINT_SELECT_DATASET]\n",
      "                             [--top-k-checkpoint-select-metric TOP_K_CHECKPOINT_SELECT_METRIC]\n",
      "                             [--openai-model-cache-dir OPENAI_MODEL_CACHE_DIR]\n",
      "                             [--optimizer OPTIMIZER] [--parallel-eval]\n",
      "                             [--no-eval] [--lp-mlp] [--lp-freeze]\n",
      "                             [--lp-act LP_ACT] [--lp-loss LP_LOSS]\n",
      "                             [--lp-metrics LP_METRICS] [--lp-lr LP_LR]\n",
      "                             [--kappa KAPPA] [--data-filling DATA_FILLING]\n",
      "                             [--data-truncating DATA_TRUNCATING]\n",
      "                             [--clap-mlploss] [--wandb-id WANDB_ID]\n",
      "                             [--sleep SLEEP] [--enable-fusion]\n",
      "                             [--fusion-type FUSION_TYPE] [--mixup]\n",
      "                             [--text-augment-selection TEXT_AUGMENT_SELECTION]\n",
      "                             [--prefetch-factor PREFETCH_FACTOR]\n",
      "ipykernel_launcher.py: error: ambiguous option: --f=/home/felipe/.local/share/jupyter/runtime/kernel-v2-2148319bunsuK3SbGtB.json could match --freeze-text, --freeze-text-after, --full-train-dataset, --force-quick-gelu, --fusion-type\n"
     ]
    },
    {
     "ename": "SystemExit",
     "evalue": "2",
     "output_type": "error",
     "traceback": [
      "An exception has occurred, use %tb to see the full traceback.\n",
      "\u001b[0;31mSystemExit\u001b[0m\u001b[0;31m:\u001b[0m 2\n"
     ]
    },
    {
     "name": "stderr",
     "output_type": "stream",
     "text": [
      "/home/felipe/Documents/Github/Pt-Brdo/env/lib/python3.10/site-packages/IPython/core/interactiveshell.py:3585: UserWarning: To exit: use 'exit', 'quit', or Ctrl-D.\n",
      "  warn(\"To exit: use 'exit', 'quit', or Ctrl-D.\", stacklevel=1)\n"
     ]
    }
   ],
   "source": [
    "from babel_bardo import OllamaChat, TranscriptIter\n",
    "from itertools import islice"
   ]
  },
  {
   "cell_type": "code",
   "execution_count": null,
   "metadata": {},
   "outputs": [],
   "source": [
    "SEED = 2147483647\n",
    "ollamaChat = OllamaChat(SEED)"
   ]
  },
  {
   "cell_type": "code",
   "execution_count": null,
   "metadata": {},
   "outputs": [],
   "source": [
    "VIDEO_ID = 'Pf4HzTdA2WE'\n",
    "START_TIME = 15529\n",
    "END_TIME = 15829\n",
    "t_iter = TranscriptIter(VIDEO_ID, start_time=START_TIME, end_time=END_TIME)"
   ]
  },
  {
   "cell_type": "code",
   "execution_count": null,
   "metadata": {},
   "outputs": [],
   "source": [
    "common_setup = \"You are going to receive a series of Role-playing Game (RPG) video transcript excerpts from players dialogs playing a campaing called O Segredo na Ilha. \"\n",
    "task_setup = \"You will classify each dialog into one of the following emotions: Happy, Calm, Agitated, or Suspenseful. Your answer will be just one word, that is, one of those exact emotions.\"\n",
    "prompt_setup = common_setup + task_setup\n",
    "\n",
    "res = ollamaChat.send(prompt_setup, setup=True)\n",
    "res"
   ]
  },
  {
   "cell_type": "code",
   "execution_count": null,
   "metadata": {},
   "outputs": [],
   "source": [
    "for description in islice(t_iter, 20):\n",
    "    frases, _ = description\n",
    "    res = ollamaChat.send(frases)\n",
    "\n",
    "    print(\"Frases:\", frases)\n",
    "    print(\"Ollama:\", res)\n",
    "    print(len(ollamaChat.chat_state))\n",
    "    print()"
   ]
  }
 ],
 "metadata": {
  "kernelspec": {
   "display_name": "env",
   "language": "python",
   "name": "python3"
  },
  "language_info": {
   "codemirror_mode": {
    "name": "ipython",
    "version": 3
   },
   "file_extension": ".py",
   "mimetype": "text/x-python",
   "name": "python",
   "nbconvert_exporter": "python",
   "pygments_lexer": "ipython3",
   "version": "3.10.12"
  }
 },
 "nbformat": 4,
 "nbformat_minor": 2
}
