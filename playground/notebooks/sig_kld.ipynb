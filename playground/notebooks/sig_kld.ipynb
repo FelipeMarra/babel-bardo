{
 "cells": [
  {
   "cell_type": "code",
   "execution_count": 3,
   "metadata": {},
   "outputs": [],
   "source": [
    "import torch"
   ]
  },
  {
   "cell_type": "code",
   "execution_count": 35,
   "metadata": {},
   "outputs": [
    {
     "name": "stdout",
     "output_type": "stream",
     "text": [
      "tensor([-1.6118e+01, -1.6118e+01, -1.6118e+01, -1.1921e-07])\n",
      "tensor([-0.1054, -2.3026, -2.3026, -2.3026])\n"
     ]
    }
   ],
   "source": [
    "# back_distrib = torch.tensor([0.0034, 0.9966])\n",
    "# eval_distrib = torch.tensor([0.0069, 0.9931])\n",
    "\n",
    "back_distrib = torch.tensor([0.0000001, 0.0000001, 0.0000001, 0.9999999])\n",
    "eval_distrib = torch.tensor([0.9, 0.1, 0.1, 0.1])\n",
    "\n",
    "log_back_distrib = back_distrib.log()\n",
    "log_eval_distrib = eval_distrib.log()\n",
    "\n",
    "print(log_back_distrib)\n",
    "print(log_eval_distrib)"
   ]
  },
  {
   "cell_type": "code",
   "execution_count": 36,
   "metadata": {},
   "outputs": [
    {
     "data": {
      "text/plain": [
       "tensor([-16.0127, -13.8155, -13.8155,   2.3026])"
      ]
     },
     "execution_count": 36,
     "metadata": {},
     "output_type": "execute_result"
    }
   ],
   "source": [
    "diff = log_back_distrib - log_eval_distrib\n",
    "diff"
   ]
  },
  {
   "cell_type": "code",
   "execution_count": 37,
   "metadata": {},
   "outputs": [
    {
     "data": {
      "text/plain": [
       "tensor([-1.6013e-06, -1.3816e-06, -1.3816e-06,  2.3026e+00])"
      ]
     },
     "execution_count": 37,
     "metadata": {},
     "output_type": "execute_result"
    }
   ],
   "source": [
    "mult = back_distrib * diff\n",
    "mult"
   ]
  },
  {
   "cell_type": "code",
   "execution_count": 38,
   "metadata": {},
   "outputs": [
    {
     "data": {
      "text/plain": [
       "tensor(2.3026)"
      ]
     },
     "execution_count": 38,
     "metadata": {},
     "output_type": "execute_result"
    }
   ],
   "source": [
    "sum(mult)"
   ]
  },
  {
   "cell_type": "code",
   "execution_count": null,
   "metadata": {},
   "outputs": [],
   "source": []
  }
 ],
 "metadata": {
  "kernelspec": {
   "display_name": "env",
   "language": "python",
   "name": "python3"
  },
  "language_info": {
   "codemirror_mode": {
    "name": "ipython",
    "version": 3
   },
   "file_extension": ".py",
   "mimetype": "text/x-python",
   "name": "python",
   "nbconvert_exporter": "python",
   "pygments_lexer": "ipython3",
   "version": "3.10.12"
  }
 },
 "nbformat": 4,
 "nbformat_minor": 2
}
