{
 "cells": [
  {
   "cell_type": "code",
   "execution_count": null,
   "metadata": {},
   "outputs": [
    {
     "name": "stderr",
     "output_type": "stream",
     "text": [
      "/home/felipe/Documents/Github/Pt-Brdo/env/lib/python3.10/site-packages/torch/cuda/__init__.py:138: UserWarning: CUDA initialization: CUDA unknown error - this may be due to an incorrectly set up environment, e.g. changing env variable CUDA_VISIBLE_DEVICES after program start. Setting the available devices to be zero. (Triggered internally at ../c10/cuda/CUDAFunctions.cpp:108.)\n",
      "  return torch._C._cuda_getDeviceCount() > 0\n",
      "/home/felipe/Documents/Github/Pt-Brdo/env/lib/python3.10/site-packages/tqdm/auto.py:21: TqdmWarning: IProgress not found. Please update jupyter and ipywidgets. See https://ipywidgets.readthedocs.io/en/stable/user_install.html\n",
      "  from .autonotebook import tqdm as notebook_tqdm\n"
     ]
    }
   ],
   "source": [
    "from babel_bardo import OllamaChat, TranscriptIter\n",
    "from itertools import islice"
   ]
  },
  {
   "cell_type": "code",
   "execution_count": 2,
   "metadata": {},
   "outputs": [],
   "source": [
    "SEED = 2147483647\n",
    "ollamaChat = OllamaChat(SEED)"
   ]
  },
  {
   "cell_type": "code",
   "execution_count": 3,
   "metadata": {},
   "outputs": [],
   "source": [
    "VIDEO_ID = 'Pf4HzTdA2WE'\n",
    "START_TIME = 15529\n",
    "END_TIME = 15829\n",
    "t_iter = TranscriptIter(VIDEO_ID, start_time=START_TIME, end_time=END_TIME)"
   ]
  },
  {
   "cell_type": "code",
   "execution_count": 4,
   "metadata": {},
   "outputs": [
    {
     "data": {
      "text/plain": [
       "''"
      ]
     },
     "execution_count": 4,
     "metadata": {},
     "output_type": "execute_result"
    }
   ],
   "source": [
    "common_setup = \"You are going to receive a series of Role-playing Game (RPG) video transcript excerpts from players dialogs playing a campaing called O Segredo na Ilha. \"\n",
    "task_setup = \"For each transcript excerpt you will translate the dialog to english. Your answer will contain translation only.\"\n",
    "prompt_setup = common_setup + task_setup\n",
    "\n",
    "res = ollamaChat.send(prompt_setup, setup=True)\n",
    "res"
   ]
  },
  {
   "cell_type": "code",
   "execution_count": 5,
   "metadata": {},
   "outputs": [
    {
     "name": "stdout",
     "output_type": "stream",
     "text": [
      "Using cached transcript located at /home/felipe/Documents/Github/Pt-Brdo/src/pt_brdo/cache/transcripts/Pf4HzTdA2WE.json\n",
      "Frases: quadro grande no fim do corredor e quando você era para ele sozinha mesmo de longe você começa a sentir um pouco estranha né se você senti como se ele tivesse quase te chamando bom e você segue em direção a ele E você tá parada na frente dele vai parede você ta observando\n",
      "Ollama: There's a large painting at the end of the corridor and when you're alone in front of it, even from a distance, you start to feel a little strange, right? As if you felt like it was almost calling you, okay? And you follow in its direction. You stop in front of it, against the wall, observing it.\n",
      "\n",
      "Frases: essa aventura o que você sente e com Salt observasse de volta se você sente os pelos o seu braço arrepiarem e quando você se dá conta os seus dedos estão tremendo e essa noiva e essa mulher alma dela brisa no quadro que olhando de volta se você sente algo pingando no seu braço que são Lágrimas\n",
      "Ollama: in this adventure, what you feel is that as Salt observes back, you feel the hairs on your arm standing up and when you realize it, your fingers are trembling. And that bride, that woman's soul whispers in the painting, looking back at you, you feel something dripping down your arm, which are tears.\n",
      "\n",
      "Frases: são suas lágrimas ela está chorando e sem parar a aventura e começa a se mover e o movimento do líquido derretendo sutilmente e hipnótico e ela te entendi o hábito a conversa com você\n",
      "Ollama: they're her tears, she's crying and the adventure starts to move and the movement of the liquid is subtly melting and hypnotic. And she understands you, she's accustomed to talking to you.\n",
      "\n",
      "Frases: ela te chamou para cá o que você veio até aqui você viu toda a sua vida para finalmente entender isso essa pintura e não tem mais volta se você não consegue mais olhar para nenhuma outra coisa o e através do Véu e ela também não consegue olhar para nada e além de você\n",
      "Ollama: she called you here, that's why you came all the way to this place, you saw your whole life to finally understand this, this painting. And there's no going back if you can't look at anything else anymore, and through the veil, she also can't look at anything beyond you.\n",
      "\n",
      "Frases: é a verdadeira arte é só um reflexo dos Sentimentos de quem a contempla E como você se sente agora ele se você pudesse definir o principal sentimento que tá dormindo a sua mente agora o seu coração e uma palavra E qual seria ela vazio o vazio\n",
      "Ollama: it's the true art, it's just a reflection of the feelings of who contemplates it. And how do you feel now? If you could define the main feeling that's dwelling in your mind right now, your heart, and one word... Which would it be? Empty... The emptiness.\n",
      "\n"
     ]
    }
   ],
   "source": [
    "for description in islice(t_iter, 5):\n",
    "    frases, _ = description\n",
    "    res = ollamaChat.send(frases)\n",
    "\n",
    "    print(\"Frases:\", frases)\n",
    "    print(\"Ollama:\", res)\n",
    "    print()"
   ]
  }
 ],
 "metadata": {
  "kernelspec": {
   "display_name": "env",
   "language": "python",
   "name": "python3"
  },
  "language_info": {
   "codemirror_mode": {
    "name": "ipython",
    "version": 3
   },
   "file_extension": ".py",
   "mimetype": "text/x-python",
   "name": "python",
   "nbconvert_exporter": "python",
   "pygments_lexer": "ipython3",
   "version": "3.10.12"
  }
 },
 "nbformat": 4,
 "nbformat_minor": 2
}
