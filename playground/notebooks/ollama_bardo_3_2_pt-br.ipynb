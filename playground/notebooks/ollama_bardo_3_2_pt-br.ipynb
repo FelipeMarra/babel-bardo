{
 "cells": [
  {
   "cell_type": "code",
   "execution_count": null,
   "metadata": {},
   "outputs": [
    {
     "name": "stderr",
     "output_type": "stream",
     "text": [
      "/home/felipe/Documents/Github/Pt-Brdo/env/lib/python3.10/site-packages/torch/cuda/__init__.py:138: UserWarning: CUDA initialization: CUDA unknown error - this may be due to an incorrectly set up environment, e.g. changing env variable CUDA_VISIBLE_DEVICES after program start. Setting the available devices to be zero. (Triggered internally at ../c10/cuda/CUDAFunctions.cpp:108.)\n",
      "  return torch._C._cuda_getDeviceCount() > 0\n",
      "/home/felipe/Documents/Github/Pt-Brdo/env/lib/python3.10/site-packages/tqdm/auto.py:21: TqdmWarning: IProgress not found. Please update jupyter and ipywidgets. See https://ipywidgets.readthedocs.io/en/stable/user_install.html\n",
      "  from .autonotebook import tqdm as notebook_tqdm\n"
     ]
    }
   ],
   "source": [
    "from babel_bardo import OllamaChat, TranscriptIter\n",
    "from itertools import islice"
   ]
  },
  {
   "cell_type": "code",
   "execution_count": 2,
   "metadata": {},
   "outputs": [],
   "source": [
    "SEED = 2147483647\n",
    "ollamaChat = OllamaChat(SEED)"
   ]
  },
  {
   "cell_type": "code",
   "execution_count": 3,
   "metadata": {},
   "outputs": [],
   "source": [
    "VIDEO_ID = 'Pf4HzTdA2WE'\n",
    "START_TIME = 15529\n",
    "END_TIME = 15829\n",
    "t_iter = TranscriptIter(VIDEO_ID, start_time=START_TIME, end_time=END_TIME)"
   ]
  },
  {
   "cell_type": "code",
   "execution_count": 4,
   "metadata": {},
   "outputs": [
    {
     "data": {
      "text/plain": [
       "''"
      ]
     },
     "execution_count": 4,
     "metadata": {},
     "output_type": "execute_result"
    }
   ],
   "source": [
    "common_setup = \"You are going to receive a series of Role-playing Game (RPG) video transcript excerpts from players dialogs playing a campaing called O Segredo na Ilha. \"\n",
    "task_setup = \"Your task is to determine whether each excerpt is from the same campaign chapter as the previous one, and based on this determination, either return the word 'CONTINUE.' or generate a music description in english. If no previous transcript has been provided, consider that the current excerpt is the beginning of a new chapter. For each transcript excerpt you will describe a piece of background music that matches that excerpt. If the excerpt is part of the same story chapter as the previous excerpt, the given answer should only contain the word 'CONTINUE.' Your description will be fed to a text to music model. The description should be concise. Do not mention anythom about the dialog excerpt. Here is a prompt that worked well with the music model: A grand orchestral arrangement with thunderous percussion, epic brass fanfares, and soaring strings, creating a cinematic atmosphere fit for a heroic battle.\"\n",
    "prompt_setup = common_setup + task_setup\n",
    "res = ollamaChat.send(prompt_setup, setup=True)\n",
    "res"
   ]
  },
  {
   "cell_type": "code",
   "execution_count": 5,
   "metadata": {},
   "outputs": [
    {
     "name": "stdout",
     "output_type": "stream",
     "text": [
      "Using cached transcript located at /home/felipe/Documents/Github/Pt-Brdo/src/pt_brdo/cache/transcripts/Pf4HzTdA2WE.json\n",
      "Frases: quadro grande no fim do corredor e quando você era para ele sozinha mesmo de longe você começa a sentir um pouco estranha né se você senti como se ele tivesse quase te chamando bom e você segue em direção a ele E você tá parada na frente dele vai parede você ta observando\n",
      "Ollama: A soft, eerie ambiance with a solo piano playing a slow, contemplative melody, accompanied by subtle, whispery sound effects, creating an atmosphere of quiet unease and foreboding curiosity.\n",
      "\n",
      "Frases: essa aventura o que você sente e com Salt observasse de volta se você sente os pelos o seu braço arrepiarem e quando você se dá conta os seus dedos estão tremendo e essa noiva e essa mulher alma dela brisa no quadro que olhando de volta se você sente algo pingando no seu braço que são Lágrimas\n",
      "Ollama: A haunting, ethereal soundscape with a mournful cello solo, accompanied by faint, ghostly whispers and the soft, mournful sighs of a distant choir, evoking an atmosphere of sorrow, longing, and otherworldly presence.\n",
      "\n",
      "Frases: são suas lágrimas ela está chorando e sem parar a aventura e começa a se mover e o movimento do líquido derretendo sutilmente e hipnótico e ela te entendi o hábito a conversa com você\n",
      "Ollama: CONTINUE.\n",
      "\n",
      "Frases: ela te chamou para cá o que você veio até aqui você viu toda a sua vida para finalmente entender isso essa pintura e não tem mais volta se você não consegue mais olhar para nenhuma outra coisa o e através do Véu e ela também não consegue olhar para nada e além de você\n",
      "Ollama: A poignant, introspective piano piece with a simple yet powerful melody, accompanied by the soft rustling of fabric and the faint whisper of a woman's voice, creating an atmosphere of tender intimacy, longing, and shared understanding.\n",
      "\n",
      "Frases: é a verdadeira arte é só um reflexo dos Sentimentos de quem a contempla E como você se sente agora ele se você pudesse definir o principal sentimento que tá dormindo a sua mente agora o seu coração e uma palavra E qual seria ela vazio o vazio\n",
      "Ollama: A desolate, ambient soundscape with a lone, mournful violin playing a slow, elegiac melody, accompanied by the faint echo of empty space and the soft whisper of wind, evoking an atmosphere of haunting emptiness and profound desolation.\n",
      "\n",
      "Frases: se você sente você tá dentro do vazio você é vazia todo o os seus arredores é vazio e você sente ela e atrás de você você olha para a praça e ela tá de frente para você uma figura encapuzada derretida olhando no fundo da sua alma\n",
      "Ollama: A dark, foreboding atmosphere with a low, ominous drone, accompanied by the soft creaking of old wooden floorboards and the faint whisper of distant, mournful chanting, evoking an atmosphere of creeping dread and malevolent presence.\n",
      "\n",
      "Frases: se você sente vindo de dentro do vazio e e você vai palavras E por que que você fez isso comigo ou menos 2 unidade 1 E aí e eu converso com ela possa você pode tentar se você realmente me ama por quê que foi a minha vida eu não quero destruir você eu nem sei quem é você e nos dois unidade 1\n",
      "Ollama: CONTINUE.\n",
      "\n",
      "Frases: eu já consigo correr me chama pelo meu nome a dor Alva se você os estrago tudo se alguém se alguém descobrir isso a descobrir o que menos dois descer idade e E aí e quantos Km dá de Jaraguá AM [Música]\n",
      "Ollama: A frantic, pulsing electronic track with a driving beat and urgent synths, accompanied by the sound of footsteps pounding the pavement and distant, muffled voices, evoking an atmosphere of desperate urgency and panicked flight.\n",
      "\n",
      "Frases: e você vai acabar Toy dois vocês escutam o outro lado da mansão Oi amile perrando e se fossemos algo tão puro entendeu tudo errado e a gente vai começar a frisar que o parada você grita por socorro essa figura\n",
      "Ollama: A chaotic, discordant soundscape with shattering glass and splintering wood, accompanied by the sound of frantic screams and desperate pleas for help, evoking an atmosphere of utter panic and catastrophic collapse.\n",
      "\n",
      "Frases: encosta em você e ou menos 2 cm idade e e você entra em choque você deixa o avião cai ele quebra e você sai você para de olhar para o quadro que você tá fazendo até agora o que vocês curtam americano do outro lado da missão se você tem que louquecer Camille você tem três rodadas para alguém tirar dessa dessa situação\n",
      "Ollama: A jarring, disorienting soundscape with the sound of screeching tires and crunching metal, accompanied by the distant hum of sirens and the muffled voices of people in a state of panic, evoking an atmosphere of intense chaos and desperate urgency.\n",
      "\n"
     ]
    }
   ],
   "source": [
    "for description in islice(t_iter, 20):\n",
    "    frases, _ = description\n",
    "    res = ollamaChat.send(frases)\n",
    "\n",
    "    print(\"Frases:\", frases)\n",
    "    print(\"Ollama:\", res)\n",
    "    print()"
   ]
  }
 ],
 "metadata": {
  "kernelspec": {
   "display_name": "env",
   "language": "python",
   "name": "python3"
  },
  "language_info": {
   "codemirror_mode": {
    "name": "ipython",
    "version": 3
   },
   "file_extension": ".py",
   "mimetype": "text/x-python",
   "name": "python",
   "nbconvert_exporter": "python",
   "pygments_lexer": "ipython3",
   "version": "3.10.12"
  }
 },
 "nbformat": 4,
 "nbformat_minor": 2
}
